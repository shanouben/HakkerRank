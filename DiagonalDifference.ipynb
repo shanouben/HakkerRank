{
 "cells": [
  {
   "cell_type": "code",
   "execution_count": null,
   "metadata": {},
   "outputs": [],
   "source": [
    "import math\n",
    "import os\n",
    "import random\n",
    "import re\n",
    "import sys\n",
    "\n",
    "#\n",
    "# Complete the 'diagonalDifference' function below.\n",
    "#\n",
    "# The function is expected to return an INTEGER.\n",
    "# The function accepts 2D_INTEGER_ARRAY arr as parameter.\n",
    "#\n",
    "\n",
    "\n",
    "\n",
    "def diagonalDifference(arr):\n",
    "    # Write your code here\n",
    "    droite = 0\n",
    "    gauche = 0\n",
    "    \n",
    "    for i in range(len(arr)):\n",
    "      for j in range(len(arr[i])):\n",
    "        if i == j :\n",
    "          droite = droite + arr[i][j]\n",
    "    print(droite)\n",
    "    \n",
    "    for k in range(len(arr)-1, -1, -1):\n",
    "      for r in range(len(arr[i])):\n",
    "\n",
    "        if k + r == len(arr) - 1:\n",
    "\n",
    "          gauche = gauche + arr[r][k]\n",
    "    print(gauche)\n",
    "      \n",
    "    return(abs(gauche - droite))"
   ]
  }
 ],
 "metadata": {
  "language_info": {
   "name": "python"
  }
 },
 "nbformat": 4,
 "nbformat_minor": 2
}
