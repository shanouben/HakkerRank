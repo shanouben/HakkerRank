{
 "cells": [
  {
   "cell_type": "code",
   "execution_count": null,
   "metadata": {},
   "outputs": [],
   "source": [
    "import math\n",
    "import os\n",
    "import random\n",
    "import re\n",
    "import sys\n",
    "\n",
    "#\n",
    "# Complete the 'gradingStudents' function below.\n",
    "#\n",
    "# The function is expected to return an INTEGER_ARRAY.\n",
    "# The function accepts INTEGER_ARRAY grades as parameter.\n",
    "#\n",
    "\n",
    "def gradingStudents(grades):\n",
    "    # Write your code here\n",
    "    for i in range(len(grades)):\n",
    "      if (grades[i]<38 or grades[i]%10 == 5 or grades[i]%10 == 0) :\n",
    "        grades[i] = grades [i]\n",
    "      else:\n",
    "        if (grades[i]%10 == 4 or grades[i]%10 == 3 or grades[i]%10 == 8 or grades[i]%10 == 9 ):\n",
    "          if (grades[i]%10 == 4 or grades[i]%10 == 9):\n",
    "            grades[i] = grades[i] + 1\n",
    "          if (grades[i]%10 == 3 or grades[i]%10 == 8):\n",
    "            grades[i] = grades[i] +2\n",
    "    return(grades)\n"
   ]
  }
 ],
 "metadata": {
  "language_info": {
   "name": "python"
  }
 },
 "nbformat": 4,
 "nbformat_minor": 2
}
