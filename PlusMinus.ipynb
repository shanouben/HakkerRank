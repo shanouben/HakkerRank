{
 "cells": [
  {
   "cell_type": "code",
   "execution_count": null,
   "metadata": {},
   "outputs": [],
   "source": [
    "def plusMinus(arr):\n",
    "    a = 0\n",
    "    b = 0\n",
    "    c = 0\n",
    "    sz = len(arr)\n",
    "    \n",
    "    for i in range(len(arr)):\n",
    "        if arr[i] <0:\n",
    "            a = a + 1\n",
    "        if arr[i] == 0:\n",
    "            b = b + 1\n",
    "        if arr[i] >0:\n",
    "            c =c +1\n",
    "    print(c/sz)\n",
    "    print(a/sz)\n",
    "    print(b/sz)\n",
    "    return 0    "
   ]
  },
  {
   "cell_type": "code",
   "execution_count": null,
   "metadata": {},
   "outputs": [],
   "source": []
  }
 ],
 "metadata": {
  "language_info": {
   "name": "python"
  }
 },
 "nbformat": 4,
 "nbformat_minor": 2
}
