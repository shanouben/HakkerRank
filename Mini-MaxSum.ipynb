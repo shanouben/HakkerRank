{
 "cells": [
  {
   "cell_type": "code",
   "execution_count": null,
   "metadata": {},
   "outputs": [],
   "source": [
    "def miniMaxSum(arr):\n",
    "\n",
    "    arr = sorted(arr)\n",
    "    petit = sum(arr[0:len(arr)-1])\n",
    "    grand = sum(arr[1:len(arr)])\n",
    "    print(petit, grand)"
   ]
  }
 ],
 "metadata": {
  "language_info": {
   "name": "python"
  }
 },
 "nbformat": 4,
 "nbformat_minor": 2
}
