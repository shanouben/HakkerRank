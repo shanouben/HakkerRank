{
 "cells": [
  {
   "cell_type": "code",
   "execution_count": null,
   "metadata": {},
   "outputs": [],
   "source": [
    "import math\n",
    "import os\n",
    "import random\n",
    "import re\n",
    "import sys\n",
    "\n",
    "#\n",
    "# Complete the 'lonelyinteger' function below.\n",
    "#\n",
    "# The function is expected to return an INTEGER.\n",
    "# The function accepts INTEGER_ARRAY a as parameter.\n",
    "#\n",
    "def count(target, a):\n",
    "  b = 0\n",
    "  for i in range(len(a)):\n",
    "    if(target == a[i]):\n",
    "      b=b+1\n",
    "  return(b)\n",
    "\n",
    "def lonelyinteger(a):\n",
    "    # Write your code here\n",
    "    arr =[]\n",
    "    \n",
    "    for i in range(len(a)):\n",
    "      arr.append(count(a[i],a))\n",
    "\n",
    "    for i in range(len(a)):\n",
    "      if(arr[i] == 1):\n",
    "        return(a[i])"
   ]
  }
 ],
 "metadata": {
  "language_info": {
   "name": "python"
  }
 },
 "nbformat": 4,
 "nbformat_minor": 2
}
